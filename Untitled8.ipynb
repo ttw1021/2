{
 "cells": [
  {
   "cell_type": "code",
   "execution_count": 1,
   "id": "e6bcd095",
   "metadata": {},
   "outputs": [
    {
     "ename": "ModuleNotFoundError",
     "evalue": "No module named 'keras'",
     "output_type": "error",
     "traceback": [
      "\u001b[1;31m---------------------------------------------------------------------------\u001b[0m",
      "\u001b[1;31mModuleNotFoundError\u001b[0m                       Traceback (most recent call last)",
      "\u001b[1;32m<ipython-input-1-012bec9e0d0b>\u001b[0m in \u001b[0;36m<module>\u001b[1;34m\u001b[0m\n\u001b[1;32m----> 1\u001b[1;33m \u001b[1;32mimport\u001b[0m \u001b[0mkeras\u001b[0m\u001b[1;33m\u001b[0m\u001b[1;33m\u001b[0m\u001b[0m\n\u001b[0m\u001b[0;32m      2\u001b[0m \u001b[0mkeras\u001b[0m\u001b[1;33m.\u001b[0m\u001b[0m_version_\u001b[0m\u001b[1;33m\u001b[0m\u001b[1;33m\u001b[0m\u001b[0m\n",
      "\u001b[1;31mModuleNotFoundError\u001b[0m: No module named 'keras'"
     ]
    }
   ],
   "source": [
    "import keras\n",
    "keras._version_"
   ]
  },
  {
   "cell_type": "code",
   "execution_count": null,
   "id": "bdab2b5f",
   "metadata": {},
   "outputs": [],
   "source": []
  },
  {
   "cell_type": "code",
   "execution_count": 2,
   "id": "58bff9f4",
   "metadata": {},
   "outputs": [
    {
     "ename": "AttributeError",
     "evalue": "module 'keras' has no attribute '_version_'",
     "output_type": "error",
     "traceback": [
      "\u001b[1;31m---------------------------------------------------------------------------\u001b[0m",
      "\u001b[1;31mAttributeError\u001b[0m                            Traceback (most recent call last)",
      "\u001b[1;32m<ipython-input-2-012bec9e0d0b>\u001b[0m in \u001b[0;36m<module>\u001b[1;34m\u001b[0m\n\u001b[0;32m      1\u001b[0m \u001b[1;32mimport\u001b[0m \u001b[0mkeras\u001b[0m\u001b[1;33m\u001b[0m\u001b[1;33m\u001b[0m\u001b[0m\n\u001b[1;32m----> 2\u001b[1;33m \u001b[0mkeras\u001b[0m\u001b[1;33m.\u001b[0m\u001b[0m_version_\u001b[0m\u001b[1;33m\u001b[0m\u001b[1;33m\u001b[0m\u001b[0m\n\u001b[0m",
      "\u001b[1;31mAttributeError\u001b[0m: module 'keras' has no attribute '_version_'"
     ]
    }
   ],
   "source": [
    "import keras\n",
    "keras._version_"
   ]
  },
  {
   "cell_type": "code",
   "execution_count": 1,
   "id": "f9e51b93",
   "metadata": {},
   "outputs": [
    {
     "data": {
      "text/plain": [
       "'2.7.0'"
      ]
     },
     "execution_count": 1,
     "metadata": {},
     "output_type": "execute_result"
    }
   ],
   "source": [
    "import keras\n",
    "keras.__version__\n"
   ]
  },
  {
   "cell_type": "code",
   "execution_count": 2,
   "id": "8256e9b6",
   "metadata": {},
   "outputs": [
    {
     "ename": "FileExistsError",
     "evalue": "[WinError 183] 当文件已存在时，无法创建该文件。: 'E:\\\\QQdownload\\\\smile-detection-master\\\\datasets\\\\train_folder\\\\smile_small'",
     "output_type": "error",
     "traceback": [
      "\u001b[1;31m---------------------------------------------------------------------------\u001b[0m",
      "\u001b[1;31mFileExistsError\u001b[0m                           Traceback (most recent call last)",
      "\u001b[1;32m<ipython-input-2-0930d39967f9>\u001b[0m in \u001b[0;36m<module>\u001b[1;34m\u001b[0m\n\u001b[0;32m      7\u001b[0m \u001b[1;31m# 我们将在其中的目录存储较小的数据集\u001b[0m\u001b[1;33m\u001b[0m\u001b[1;33m\u001b[0m\u001b[1;33m\u001b[0m\u001b[0m\n\u001b[0;32m      8\u001b[0m \u001b[0mbase_dir\u001b[0m \u001b[1;33m=\u001b[0m \u001b[1;34m'E:\\\\QQdownload\\\\smile-detection-master\\\\datasets\\\\train_folder\\\\smile_small'\u001b[0m\u001b[1;33m\u001b[0m\u001b[1;33m\u001b[0m\u001b[0m\n\u001b[1;32m----> 9\u001b[1;33m \u001b[0mos\u001b[0m\u001b[1;33m.\u001b[0m\u001b[0mmkdir\u001b[0m\u001b[1;33m(\u001b[0m\u001b[0mbase_dir\u001b[0m\u001b[1;33m)\u001b[0m\u001b[1;33m\u001b[0m\u001b[1;33m\u001b[0m\u001b[0m\n\u001b[0m\u001b[0;32m     10\u001b[0m \u001b[1;33m\u001b[0m\u001b[0m\n\u001b[0;32m     11\u001b[0m \u001b[1;31m# # 训练、验证、测试数据集的目录\u001b[0m\u001b[1;33m\u001b[0m\u001b[1;33m\u001b[0m\u001b[1;33m\u001b[0m\u001b[0m\n",
      "\u001b[1;31mFileExistsError\u001b[0m: [WinError 183] 当文件已存在时，无法创建该文件。: 'E:\\\\QQdownload\\\\smile-detection-master\\\\datasets\\\\train_folder\\\\smile_small'"
     ]
    }
   ],
   "source": [
    "import os, shutil #复制文件\n",
    "# 原始目录所在的路径\n",
    "# 数据集未压缩\n",
    "original_dataset_dir0 = 'E:\\QQdownload\\smile-detection-master\\datasets\\train_folder\\0'\n",
    "original_dataset_dir1 = 'E:\\QQdownload\\smile-detection-master\\datasets\\train_folder\\1'\n",
    "\n",
    "# 我们将在其中的目录存储较小的数据集\n",
    "base_dir = 'E:\\\\QQdownload\\\\smile-detection-master\\\\datasets\\\\train_folder\\\\smile_small'\n",
    "os.mkdir(base_dir)\n",
    "\n",
    "# # 训练、验证、测试数据集的目录\n",
    "train_dir = os.path.join(base_dir, 'train')\n",
    "os.mkdir(train_dir)\n",
    "validation_dir = os.path.join(base_dir, 'validation')\n",
    "os.mkdir(validation_dir)\n",
    "test_dir = os.path.join(base_dir, 'test')\n",
    "os.mkdir(test_dir)\n",
    "\n",
    "# 笑训练图片所在目录\n",
    "train_smile_dir = os.path.join(train_dir, 'smile')\n",
    "os.mkdir(train_smile_dir)\n",
    "\n",
    "# 不笑训练图片所在目录\n",
    "train_unsmile_dir = os.path.join(train_dir, 'unsmile')\n",
    "os.mkdir(train_unsmile_dir)\n",
    "\n",
    "# 笑验证图片所在目录\n",
    "validation_smile_dir = os.path.join(validation_dir, 'smile')\n",
    "os.mkdir(validation_smile_dir)\n",
    "\n",
    "# 不笑验证数据集所在目录\n",
    "validation_unsmile_dir = os.path.join(validation_dir, 'unsmile')\n",
    "os.mkdir(validation_unsmile_dir)\n",
    "\n",
    "# 笑测试数据集所在目录\n",
    "test_smile_dir = os.path.join(test_dir, 'smile')\n",
    "os.mkdir(test_smile_dir)\n",
    "\n",
    "# 不笑测试数据集所在目录\n",
    "test_unsmile_dir = os.path.join(test_dir, 'unsmile')\n",
    "os.mkdir(test_unsmile_dir)\n",
    "\n",
    "# 将前1000张笑图像复制到train_smile_dir\n",
    "fnames = ['smile{}.jpg'.format(i) for i in range(1000)]\n",
    "for fname in fnames:\n",
    "    src = os.path.join(original_dataset_dir1, fname)\n",
    "    dst = os.path.join(train_smile_dir, fname)\n",
    "    shutil.copyfile(src, dst)\n",
    "\n",
    "# 将下500张笑图像复制到validation_smile_dir\n",
    "fnames = ['smile{}.jpg'.format(i) for i in range(1000, 1500)]\n",
    "for fname in fnames:\n",
    "    src = os.path.join(original_dataset_dir1, fname)\n",
    "    dst = os.path.join(validation_smile_dir, fname)\n",
    "    shutil.copyfile(src, dst)\n",
    "    \n",
    "# 将下500张笑图像复制到test_smile_dir\n",
    "fnames = ['smile{}.jpg'.format(i) for i in range(1000, 1500)]\n",
    "for fname in fnames:\n",
    "    src = os.path.join(original_dataset_dir1, fname)\n",
    "    dst = os.path.join(test_smile_dir, fname)\n",
    "    shutil.copyfile(src, dst)\n",
    "    \n",
    "# 将前1000张不笑图像复制到train_unsmile_dir\n",
    "fnames = ['unsmile{}.jpg'.format(i) for i in range(1000)]\n",
    "for fname in fnames:\n",
    "    src = os.path.join(original_dataset_dir0, fname)\n",
    "    dst = os.path.join(train_unsmile_dir, fname)\n",
    "    shutil.copyfile(src, dst)\n",
    "    \n",
    "# 将500张不笑图像复制到validation_unsmile_dir\n",
    "fnames = ['unsmile{}.jpg'.format(i) for i in range(700, 1200)]\n",
    "for fname in fnames:\n",
    "    src = os.path.join(original_dataset_dir0, fname)\n",
    "    dst = os.path.join(validation_unsmile_dir, fname)\n",
    "    shutil.copyfile(src, dst)\n",
    "    \n",
    "# 将500张不笑图像复制到test_unsmile_dir\n",
    "fnames = ['unsmile{}.jpg'.format(i) for i in range(700, 1200)]\n",
    "for fname in fnames:\n",
    "    src = os.path.join(original_dataset_dir0, fname)\n",
    "    dst = os.path.join(test_unsmile_dir, fname)\n",
    "    shutil.copyfile(src, dst)\n"
   ]
  },
  {
   "cell_type": "code",
   "execution_count": null,
   "id": "6e3b5835",
   "metadata": {},
   "outputs": [],
   "source": []
  },
  {
   "cell_type": "code",
   "execution_count": 5,
   "id": "048cdfc6",
   "metadata": {},
   "outputs": [
    {
     "ename": "FileNotFoundError",
     "evalue": "[Errno 2] No such file or directory: 'E:\\\\QQdownload\\\\smile-detection-master\\\\datasets\\\\train_folder\\\\1\\\\smile0.jpg'",
     "output_type": "error",
     "traceback": [
      "\u001b[1;31m---------------------------------------------------------------------------\u001b[0m",
      "\u001b[1;31mFileNotFoundError\u001b[0m                         Traceback (most recent call last)",
      "\u001b[1;32m<ipython-input-5-beec5c63db5b>\u001b[0m in \u001b[0;36m<module>\u001b[1;34m\u001b[0m\n\u001b[0;32m     46\u001b[0m     \u001b[0msrc\u001b[0m \u001b[1;33m=\u001b[0m \u001b[0mos\u001b[0m\u001b[1;33m.\u001b[0m\u001b[0mpath\u001b[0m\u001b[1;33m.\u001b[0m\u001b[0mjoin\u001b[0m\u001b[1;33m(\u001b[0m\u001b[0moriginal_dataset_dir1\u001b[0m\u001b[1;33m,\u001b[0m \u001b[0mfname\u001b[0m\u001b[1;33m)\u001b[0m\u001b[1;33m\u001b[0m\u001b[1;33m\u001b[0m\u001b[0m\n\u001b[0;32m     47\u001b[0m     \u001b[0mdst\u001b[0m \u001b[1;33m=\u001b[0m \u001b[0mos\u001b[0m\u001b[1;33m.\u001b[0m\u001b[0mpath\u001b[0m\u001b[1;33m.\u001b[0m\u001b[0mjoin\u001b[0m\u001b[1;33m(\u001b[0m\u001b[0mtrain_smile_dir\u001b[0m\u001b[1;33m,\u001b[0m \u001b[0mfname\u001b[0m\u001b[1;33m)\u001b[0m\u001b[1;33m\u001b[0m\u001b[1;33m\u001b[0m\u001b[0m\n\u001b[1;32m---> 48\u001b[1;33m     \u001b[0mshutil\u001b[0m\u001b[1;33m.\u001b[0m\u001b[0mcopyfile\u001b[0m\u001b[1;33m(\u001b[0m\u001b[0msrc\u001b[0m\u001b[1;33m,\u001b[0m \u001b[0mdst\u001b[0m\u001b[1;33m)\u001b[0m\u001b[1;33m\u001b[0m\u001b[1;33m\u001b[0m\u001b[0m\n\u001b[0m\u001b[0;32m     49\u001b[0m \u001b[1;33m\u001b[0m\u001b[0m\n\u001b[0;32m     50\u001b[0m \u001b[1;31m# 将下500张笑图像复制到validation_smile_dir\u001b[0m\u001b[1;33m\u001b[0m\u001b[1;33m\u001b[0m\u001b[1;33m\u001b[0m\u001b[0m\n",
      "\u001b[1;32mE:\\SMARTHUMEN\\lib\\shutil.py\u001b[0m in \u001b[0;36mcopyfile\u001b[1;34m(src, dst, follow_symlinks)\u001b[0m\n\u001b[0;32m    262\u001b[0m         \u001b[0mos\u001b[0m\u001b[1;33m.\u001b[0m\u001b[0msymlink\u001b[0m\u001b[1;33m(\u001b[0m\u001b[0mos\u001b[0m\u001b[1;33m.\u001b[0m\u001b[0mreadlink\u001b[0m\u001b[1;33m(\u001b[0m\u001b[0msrc\u001b[0m\u001b[1;33m)\u001b[0m\u001b[1;33m,\u001b[0m \u001b[0mdst\u001b[0m\u001b[1;33m)\u001b[0m\u001b[1;33m\u001b[0m\u001b[1;33m\u001b[0m\u001b[0m\n\u001b[0;32m    263\u001b[0m     \u001b[1;32melse\u001b[0m\u001b[1;33m:\u001b[0m\u001b[1;33m\u001b[0m\u001b[1;33m\u001b[0m\u001b[0m\n\u001b[1;32m--> 264\u001b[1;33m         \u001b[1;32mwith\u001b[0m \u001b[0mopen\u001b[0m\u001b[1;33m(\u001b[0m\u001b[0msrc\u001b[0m\u001b[1;33m,\u001b[0m \u001b[1;34m'rb'\u001b[0m\u001b[1;33m)\u001b[0m \u001b[1;32mas\u001b[0m \u001b[0mfsrc\u001b[0m\u001b[1;33m,\u001b[0m \u001b[0mopen\u001b[0m\u001b[1;33m(\u001b[0m\u001b[0mdst\u001b[0m\u001b[1;33m,\u001b[0m \u001b[1;34m'wb'\u001b[0m\u001b[1;33m)\u001b[0m \u001b[1;32mas\u001b[0m \u001b[0mfdst\u001b[0m\u001b[1;33m:\u001b[0m\u001b[1;33m\u001b[0m\u001b[1;33m\u001b[0m\u001b[0m\n\u001b[0m\u001b[0;32m    265\u001b[0m             \u001b[1;31m# macOS\u001b[0m\u001b[1;33m\u001b[0m\u001b[1;33m\u001b[0m\u001b[1;33m\u001b[0m\u001b[0m\n\u001b[0;32m    266\u001b[0m             \u001b[1;32mif\u001b[0m \u001b[0m_HAS_FCOPYFILE\u001b[0m\u001b[1;33m:\u001b[0m\u001b[1;33m\u001b[0m\u001b[1;33m\u001b[0m\u001b[0m\n",
      "\u001b[1;31mFileNotFoundError\u001b[0m: [Errno 2] No such file or directory: 'E:\\\\QQdownload\\\\smile-detection-master\\\\datasets\\\\train_folder\\\\1\\\\smile0.jpg'"
     ]
    }
   ],
   "source": [
    "import os, shutil #复制文件\n",
    "# 原始目录所在的路径\n",
    "# 数据集未压缩\n",
    "original_dataset_dir0 = 'E:\\QQdownload\\smile-detection-master\\datasets\\train_folder\\0'\n",
    "original_dataset_dir1 = 'E:\\QQdownload\\smile-detection-master\\datasets\\train_folder\\1'\n",
    "\n",
    "# 我们将在其中的目录存储较小的数据集\n",
    "base_dir = 'E:\\\\QQdownload\\\\smile-detection-master\\\\datasets\\\\train_folder\\\\smile_small'\n",
    "os.mkdir(base_dir)\n",
    "\n",
    "# # 训练、验证、测试数据集的目录\n",
    "train_dir = os.path.join(base_dir, 'train')\n",
    "os.mkdir(train_dir)\n",
    "validation_dir = os.path.join(base_dir, 'validation')\n",
    "os.mkdir(validation_dir)\n",
    "test_dir = os.path.join(base_dir, 'test')\n",
    "os.mkdir(test_dir)\n",
    "\n",
    "# 笑训练图片所在目录\n",
    "train_smile_dir = os.path.join(train_dir, 'smile')\n",
    "os.mkdir(train_smile_dir)\n",
    "\n",
    "# 不笑训练图片所在目录\n",
    "train_unsmile_dir = os.path.join(train_dir, 'unsmile')\n",
    "os.mkdir(train_unsmile_dir)\n",
    "\n",
    "# 笑验证图片所在目录\n",
    "validation_smile_dir = os.path.join(validation_dir, 'smile')\n",
    "os.mkdir(validation_smile_dir)\n",
    "\n",
    "# 不笑验证数据集所在目录\n",
    "validation_unsmile_dir = os.path.join(validation_dir, 'unsmile')\n",
    "os.mkdir(validation_unsmile_dir)\n",
    "\n",
    "# 笑测试数据集所在目录\n",
    "test_smile_dir = os.path.join(test_dir, 'smile')\n",
    "os.mkdir(test_smile_dir)\n",
    "\n",
    "# 不笑测试数据集所在目录\n",
    "test_unsmile_dir = os.path.join(test_dir, 'unsmile')\n",
    "os.mkdir(test_unsmile_dir)\n",
    "\n",
    "# 将前1000张笑图像复制到train_smile_dir\n",
    "fnames = ['smile{}.jpg'.format(i) for i in range(1000)]\n",
    "for fname in fnames:\n",
    "    src = os.path.join(original_dataset_dir1, fname)\n",
    "    dst = os.path.join(train_smile_dir, fname)\n",
    "    shutil.copyfile(src, dst)\n",
    "\n",
    "# 将下500张笑图像复制到validation_smile_dir\n",
    "fnames = ['smile{}.jpg'.format(i) for i in range(1000, 1500)]\n",
    "for fname in fnames:\n",
    "    src = os.path.join(original_dataset_dir1, fname)\n",
    "    dst = os.path.join(validation_smile_dir, fname)\n",
    "    shutil.copyfile(src, dst)\n",
    "    \n",
    "# 将下500张笑图像复制到test_smile_dir\n",
    "fnames = ['smile{}.jpg'.format(i) for i in range(1000, 1500)]\n",
    "for fname in fnames:\n",
    "    src = os.path.join(original_dataset_dir1, fname)\n",
    "    dst = os.path.join(test_smile_dir, fname)\n",
    "    shutil.copyfile(src, dst)\n",
    "    \n",
    "# 将前1000张不笑图像复制到train_unsmile_dir\n",
    "fnames = ['unsmile{}.jpg'.format(i) for i in range(1000)]\n",
    "for fname in fnames:\n",
    "    src = os.path.join(original_dataset_dir0, fname)\n",
    "    dst = os.path.join(train_unsmile_dir, fname)\n",
    "    shutil.copyfile(src, dst)\n",
    "    \n",
    "# 将500张不笑图像复制到validation_unsmile_dir\n",
    "fnames = ['unsmile{}.jpg'.format(i) for i in range(700, 1200)]\n",
    "for fname in fnames:\n",
    "    src = os.path.join(original_dataset_dir0, fname)\n",
    "    dst = os.path.join(validation_unsmile_dir, fname)\n",
    "    shutil.copyfile(src, dst)\n",
    "    \n",
    "# 将500张不笑图像复制到test_unsmile_dir\n",
    "fnames = ['unsmile{}.jpg'.format(i) for i in range(700, 1200)]\n",
    "for fname in fnames:\n",
    "    src = os.path.join(original_dataset_dir0, fname)\n",
    "    dst = os.path.join(test_unsmile_dir, fname)\n",
    "    shutil.copyfile(src, dst)\n"
   ]
  },
  {
   "cell_type": "code",
   "execution_count": null,
   "id": "06f50798",
   "metadata": {},
   "outputs": [],
   "source": []
  },
  {
   "cell_type": "code",
   "execution_count": 12,
   "id": "1051203c",
   "metadata": {},
   "outputs": [
    {
     "ename": "FileExistsError",
     "evalue": "[WinError 183] 当文件已存在时，无法创建该文件。: 'E:\\\\QQdownload\\\\smile-detection-master\\\\datasets\\\\train_folder\\\\smile_small'",
     "output_type": "error",
     "traceback": [
      "\u001b[1;31m---------------------------------------------------------------------------\u001b[0m",
      "\u001b[1;31mFileExistsError\u001b[0m                           Traceback (most recent call last)",
      "\u001b[1;32m<ipython-input-12-4f2b2eddf5d1>\u001b[0m in \u001b[0;36m<module>\u001b[1;34m\u001b[0m\n\u001b[0;32m      7\u001b[0m \u001b[1;31m# 我们将在其中的目录存储较小的数据集\u001b[0m\u001b[1;33m\u001b[0m\u001b[1;33m\u001b[0m\u001b[1;33m\u001b[0m\u001b[0m\n\u001b[0;32m      8\u001b[0m \u001b[0mbase_dir\u001b[0m \u001b[1;33m=\u001b[0m \u001b[1;34m'E:\\\\QQdownload\\\\smile-detection-master\\\\datasets\\\\train_folder\\\\smile_small'\u001b[0m\u001b[1;33m\u001b[0m\u001b[1;33m\u001b[0m\u001b[0m\n\u001b[1;32m----> 9\u001b[1;33m \u001b[0mos\u001b[0m\u001b[1;33m.\u001b[0m\u001b[0mmkdir\u001b[0m\u001b[1;33m(\u001b[0m\u001b[0mbase_dir\u001b[0m\u001b[1;33m)\u001b[0m\u001b[1;33m\u001b[0m\u001b[1;33m\u001b[0m\u001b[0m\n\u001b[0m\u001b[0;32m     10\u001b[0m \u001b[1;33m\u001b[0m\u001b[0m\n\u001b[0;32m     11\u001b[0m \u001b[1;31m# # 训练、验证、测试数据集的目录\u001b[0m\u001b[1;33m\u001b[0m\u001b[1;33m\u001b[0m\u001b[1;33m\u001b[0m\u001b[0m\n",
      "\u001b[1;31mFileExistsError\u001b[0m: [WinError 183] 当文件已存在时，无法创建该文件。: 'E:\\\\QQdownload\\\\smile-detection-master\\\\datasets\\\\train_folder\\\\smile_small'"
     ]
    }
   ],
   "source": [
    "import os, shutil #复制文件\n",
    "# 原始目录所在的路径\n",
    "# 数据集未压缩\n",
    "original_dataset_dir0 = r'E:\\QQdownload\\smile-detection-master\\datasets\\train_folder\\0'\n",
    "original_dataset_dir1 = r'E:\\QQdownload\\smile-detection-master\\datasets\\train_folder\\1'\n",
    " \n",
    "# 我们将在其中的目录存储较小的数据集\n",
    "base_dir = 'E:\\\\QQdownload\\\\smile-detection-master\\\\datasets\\\\train_folder\\\\smile_small'\n",
    "os.mkdir(base_dir)\n",
    " \n",
    "# # 训练、验证、测试数据集的目录\n",
    "train_dir = os.path.join(base_dir, 'train')\n",
    "os.mkdir(train_dir)\n",
    "validation_dir = os.path.join(base_dir, 'validation')\n",
    "os.mkdir(validation_dir)\n",
    "test_dir = os.path.join(base_dir, 'test')\n",
    "os.mkdir(test_dir)\n",
    " \n",
    "# 笑训练图片所在目录\n",
    "train_smile_dir = os.path.join(train_dir, 'smile')\n",
    "os.mkdir(train_smile_dir)\n",
    " \n",
    "# 不笑训练图片所在目录\n",
    "train_unsmile_dir = os.path.join(train_dir, 'unsmile')\n",
    "os.mkdir(train_unsmile_dir)\n",
    " \n",
    "# 笑验证图片所在目录\n",
    "validation_smile_dir = os.path.join(validation_dir, 'smile')\n",
    "os.mkdir(validation_smile_dir)\n",
    " \n",
    "# 不笑验证数据集所在目录\n",
    "validation_unsmile_dir = os.path.join(validation_dir, 'unsmile')\n",
    "os.mkdir(validation_unsmile_dir)\n",
    " \n",
    "# 笑测试数据集所在目录\n",
    "test_smile_dir = os.path.join(test_dir, 'smile')\n",
    "os.mkdir(test_smile_dir)\n",
    " \n",
    "# 不笑测试数据集所在目录\n",
    "test_unsmile_dir = os.path.join(test_dir, 'unsmile')\n",
    "os.mkdir(test_unsmile_dir)\n",
    " \n",
    "# 将前1000张笑图像复制到train_smile_dir\n",
    "fnames = ['smile ({}).jpg'.format(i) for i in range(1,1000)]\n",
    "for fname in fnames:\n",
    "    src = os.path.join(original_dataset_dir1, fname)\n",
    "    dst = os.path.join(train_smile_dir, fname)\n",
    "    shutil.copyfile(src, dst)\n",
    " \n",
    "# 将下500张笑图像复制到validation_smile_dir\n",
    "fnames = ['smile ({}).jpg'.format(i) for i in range(1000, 1500)]\n",
    "for fname in fnames:\n",
    "    src = os.path.join(original_dataset_dir1, fname)\n",
    "    dst = os.path.join(validation_smile_dir, fname)\n",
    "    shutil.copyfile(src, dst)\n",
    "    \n",
    "# 将下500张笑图像复制到test_smile_dir\n",
    "fnames = ['smile ({}).jpg'.format(i) for i in range(1000, 1500)]\n",
    "for fname in fnames:\n",
    "    src = os.path.join(original_dataset_dir1, fname)\n",
    "    dst = os.path.join(test_smile_dir, fname)\n",
    "    shutil.copyfile(src, dst)\n",
    "    \n",
    "# 将前1000张不笑图像复制到train_unsmile_dir\n",
    "fnames = ['unsmile ({}).jpg'.format(i) for i in range(1,1000)]\n",
    "for fname in fnames:\n",
    "    src = os.path.join(original_dataset_dir0, fname)\n",
    "    dst = os.path.join(train_unsmile_dir, fname)\n",
    "    shutil.copyfile(src, dst)\n",
    "    \n",
    "# 将500张不笑图像复制到validation_unsmile_dir\n",
    "fnames = ['unsmile ({}).jpg'.format(i) for i in range(700, 1200)]\n",
    "for fname in fnames:\n",
    "    src = os.path.join(original_dataset_dir0, fname)\n",
    "    dst = os.path.join(validation_unsmile_dir, fname)\n",
    "    shutil.copyfile(src, dst)\n",
    "    \n",
    "# 将500张不笑图像复制到test_unsmile_dir\n",
    "fnames = ['unsmile ({}).jpg'.format(i) for i in range(700, 1200)]\n",
    "for fname in fnames:\n",
    "    src = os.path.join(original_dataset_dir0, fname)\n",
    "    dst = os.path.join(test_unsmile_dir, fname)\n",
    "    shutil.copyfile(src, dst)"
   ]
  },
  {
   "cell_type": "code",
   "execution_count": 13,
   "id": "941353dd",
   "metadata": {},
   "outputs": [
    {
     "name": "stdout",
     "output_type": "stream",
     "text": [
      "total training cat images: 999\n",
      "total training dog images: 999\n",
      "total validation cat images: 500\n",
      "total validation dog images: 500\n",
      "total test cat images: 500\n",
      "total test dog images: 500\n"
     ]
    }
   ],
   "source": [
    "print('total training cat images:', len(os.listdir(train_smile_dir)))\n",
    "print('total training dog images:', len(os.listdir(train_unsmile_dir)))\n",
    "print('total validation cat images:', len(os.listdir(validation_smile_dir)))\n",
    "print('total validation dog images:', len(os.listdir(validation_unsmile_dir)))\n",
    "print('total test cat images:', len(os.listdir(test_smile_dir)))\n",
    "print('total test dog images:', len(os.listdir(test_unsmile_dir)))"
   ]
  },
  {
   "cell_type": "code",
   "execution_count": 14,
   "id": "05b31433",
   "metadata": {},
   "outputs": [
    {
     "name": "stdout",
     "output_type": "stream",
     "text": [
      "Model: \"sequential\"\n",
      "_________________________________________________________________\n",
      " Layer (type)                Output Shape              Param #   \n",
      "=================================================================\n",
      " conv2d (Conv2D)             (None, 148, 148, 32)      896       \n",
      "                                                                 \n",
      " max_pooling2d (MaxPooling2D  (None, 74, 74, 32)       0         \n",
      " )                                                               \n",
      "                                                                 \n",
      " conv2d_1 (Conv2D)           (None, 72, 72, 64)        18496     \n",
      "                                                                 \n",
      " max_pooling2d_1 (MaxPooling  (None, 36, 36, 64)       0         \n",
      " 2D)                                                             \n",
      "                                                                 \n",
      " conv2d_2 (Conv2D)           (None, 34, 34, 128)       73856     \n",
      "                                                                 \n",
      " max_pooling2d_2 (MaxPooling  (None, 17, 17, 128)      0         \n",
      " 2D)                                                             \n",
      "                                                                 \n",
      " conv2d_3 (Conv2D)           (None, 15, 15, 128)       147584    \n",
      "                                                                 \n",
      " max_pooling2d_3 (MaxPooling  (None, 7, 7, 128)        0         \n",
      " 2D)                                                             \n",
      "                                                                 \n",
      " flatten (Flatten)           (None, 6272)              0         \n",
      "                                                                 \n",
      " dense (Dense)               (None, 512)               3211776   \n",
      "                                                                 \n",
      " dense_1 (Dense)             (None, 1)                 513       \n",
      "                                                                 \n",
      "=================================================================\n",
      "Total params: 3,453,121\n",
      "Trainable params: 3,453,121\n",
      "Non-trainable params: 0\n",
      "_________________________________________________________________\n"
     ]
    }
   ],
   "source": [
    "from keras import layers\n",
    "from keras import models\n",
    " \n",
    "model = models.Sequential()\n",
    "model.add(layers.Conv2D(32, (3, 3), activation='relu',\n",
    "                        input_shape=(150, 150, 3)))\n",
    "model.add(layers.MaxPooling2D((2, 2)))\n",
    "model.add(layers.Conv2D(64, (3, 3), activation='relu'))\n",
    "model.add(layers.MaxPooling2D((2, 2)))\n",
    "model.add(layers.Conv2D(128, (3, 3), activation='relu'))\n",
    "model.add(layers.MaxPooling2D((2, 2)))\n",
    "model.add(layers.Conv2D(128, (3, 3), activation='relu'))\n",
    "model.add(layers.MaxPooling2D((2, 2)))\n",
    "model.add(layers.Flatten())\n",
    "model.add(layers.Dense(512, activation='relu'))\n",
    "model.add(layers.Dense(1, activation='sigmoid'))\n",
    "model.summary()"
   ]
  },
  {
   "cell_type": "code",
   "execution_count": 16,
   "id": "9125a7cf",
   "metadata": {},
   "outputs": [
    {
     "name": "stdout",
     "output_type": "stream",
     "text": [
      "Found 1998 images belonging to 2 classes.\n",
      "Found 1000 images belonging to 2 classes.\n"
     ]
    }
   ],
   "source": [
    "from tensorflow import optimizers\n",
    " \n",
    "model.compile(loss='binary_crossentropy',\n",
    "              optimizer=optimizers.RMSprop(learning_rate=1e-4),\n",
    "              metrics=['acc'])\n",
    "from keras.preprocessing.image import ImageDataGenerator\n",
    " \n",
    "# All images will be rescaled by 1./255\n",
    "train_datagen = ImageDataGenerator(rescale=1./255)\n",
    "test_datagen = ImageDataGenerator(rescale=1./255)\n",
    " \n",
    "train_generator = train_datagen.flow_from_directory(\n",
    "        # This is the target directory\n",
    "        train_dir,\n",
    "        # All images will be resized to 150x150\n",
    "        target_size=(150, 150),\n",
    "        batch_size=20,\n",
    "        # Since we use binary_crossentropy loss, we need binary labels\n",
    "        class_mode='binary')\n",
    " \n",
    "validation_generator = test_datagen.flow_from_directory(\n",
    "        validation_dir,\n",
    "        target_size=(150, 150),\n",
    "        batch_size=20,\n",
    "        class_mode='binary')"
   ]
  },
  {
   "cell_type": "code",
   "execution_count": 17,
   "id": "f990c367",
   "metadata": {},
   "outputs": [
    {
     "name": "stdout",
     "output_type": "stream",
     "text": [
      "data batch shape: (20, 150, 150, 3)\n",
      "labels batch shape: (20,)\n"
     ]
    }
   ],
   "source": [
    "for data_batch, labels_batch in train_generator:\n",
    "    print('data batch shape:', data_batch.shape)\n",
    "    print('labels batch shape:', labels_batch.shape)\n",
    "    break"
   ]
  },
  {
   "cell_type": "code",
   "execution_count": 19,
   "id": "83132c55",
   "metadata": {},
   "outputs": [
    {
     "name": "stderr",
     "output_type": "stream",
     "text": [
      "<ipython-input-19-a7acfc8093a4>:1: UserWarning: `Model.fit_generator` is deprecated and will be removed in a future version. Please use `Model.fit`, which supports generators.\n",
      "  history = model.fit_generator(\n"
     ]
    },
    {
     "name": "stdout",
     "output_type": "stream",
     "text": [
      "Epoch 1/30\n",
      "100/100 [==============================] - 45s 451ms/step - loss: 0.3687 - acc: 0.8443 - val_loss: 0.3823 - val_acc: 0.8380\n",
      "Epoch 2/30\n",
      "100/100 [==============================] - 43s 433ms/step - loss: 0.3314 - acc: 0.8559 - val_loss: 0.3489 - val_acc: 0.8540\n",
      "Epoch 3/30\n",
      "100/100 [==============================] - 45s 454ms/step - loss: 0.3099 - acc: 0.8729 - val_loss: 0.3515 - val_acc: 0.8550\n",
      "Epoch 4/30\n",
      "100/100 [==============================] - 46s 459ms/step - loss: 0.2882 - acc: 0.8749 - val_loss: 0.3067 - val_acc: 0.8820\n",
      "Epoch 5/30\n",
      "100/100 [==============================] - 45s 445ms/step - loss: 0.2616 - acc: 0.8834 - val_loss: 0.3041 - val_acc: 0.8770\n",
      "Epoch 6/30\n",
      "100/100 [==============================] - 45s 446ms/step - loss: 0.2413 - acc: 0.8969 - val_loss: 0.2822 - val_acc: 0.8900\n",
      "Epoch 7/30\n",
      "100/100 [==============================] - 45s 452ms/step - loss: 0.2312 - acc: 0.9104 - val_loss: 0.3202 - val_acc: 0.8670\n",
      "Epoch 8/30\n",
      "100/100 [==============================] - 49s 494ms/step - loss: 0.2009 - acc: 0.9134 - val_loss: 0.2684 - val_acc: 0.8930\n",
      "Epoch 9/30\n",
      "100/100 [==============================] - 45s 450ms/step - loss: 0.1915 - acc: 0.9194 - val_loss: 0.2895 - val_acc: 0.8850\n",
      "Epoch 10/30\n",
      "100/100 [==============================] - 45s 447ms/step - loss: 0.1772 - acc: 0.9334 - val_loss: 0.2693 - val_acc: 0.8920\n",
      "Epoch 11/30\n",
      "100/100 [==============================] - 45s 449ms/step - loss: 0.1539 - acc: 0.9429 - val_loss: 0.2970 - val_acc: 0.8880\n",
      "Epoch 12/30\n",
      "100/100 [==============================] - 47s 466ms/step - loss: 0.1430 - acc: 0.9449 - val_loss: 0.3090 - val_acc: 0.8750\n",
      "Epoch 13/30\n",
      "100/100 [==============================] - 45s 448ms/step - loss: 0.1289 - acc: 0.9530 - val_loss: 0.2829 - val_acc: 0.8920\n",
      "Epoch 14/30\n",
      "100/100 [==============================] - 45s 446ms/step - loss: 0.1105 - acc: 0.9615 - val_loss: 0.3357 - val_acc: 0.8960\n",
      "Epoch 15/30\n",
      "100/100 [==============================] - 47s 470ms/step - loss: 0.1022 - acc: 0.9600 - val_loss: 0.2406 - val_acc: 0.9100\n",
      "Epoch 16/30\n",
      "100/100 [==============================] - 48s 477ms/step - loss: 0.0922 - acc: 0.9675 - val_loss: 0.3179 - val_acc: 0.8930\n",
      "Epoch 17/30\n",
      "100/100 [==============================] - 45s 455ms/step - loss: 0.0810 - acc: 0.9680 - val_loss: 0.2759 - val_acc: 0.9110\n",
      "Epoch 18/30\n",
      "100/100 [==============================] - 47s 472ms/step - loss: 0.0737 - acc: 0.9755 - val_loss: 0.2593 - val_acc: 0.9180\n",
      "Epoch 19/30\n",
      "100/100 [==============================] - 48s 478ms/step - loss: 0.0630 - acc: 0.9765 - val_loss: 0.6025 - val_acc: 0.8510\n",
      "Epoch 20/30\n",
      "100/100 [==============================] - 48s 478ms/step - loss: 0.0538 - acc: 0.9805 - val_loss: 0.3214 - val_acc: 0.9160\n",
      "Epoch 21/30\n",
      "100/100 [==============================] - 49s 486ms/step - loss: 0.0439 - acc: 0.9860 - val_loss: 0.3732 - val_acc: 0.9050\n",
      "Epoch 22/30\n",
      "100/100 [==============================] - 48s 480ms/step - loss: 0.0413 - acc: 0.9840 - val_loss: 0.4405 - val_acc: 0.8930\n",
      "Epoch 23/30\n",
      "100/100 [==============================] - 49s 492ms/step - loss: 0.0335 - acc: 0.9880 - val_loss: 0.5200 - val_acc: 0.8890\n",
      "Epoch 24/30\n",
      "100/100 [==============================] - 49s 495ms/step - loss: 0.0292 - acc: 0.9915 - val_loss: 0.4996 - val_acc: 0.9000\n",
      "Epoch 25/30\n",
      "100/100 [==============================] - 48s 482ms/step - loss: 0.0305 - acc: 0.9885 - val_loss: 0.3726 - val_acc: 0.9100\n",
      "Epoch 26/30\n",
      "100/100 [==============================] - 48s 478ms/step - loss: 0.0242 - acc: 0.9925 - val_loss: 0.4625 - val_acc: 0.9030\n",
      "Epoch 27/30\n",
      "100/100 [==============================] - 49s 486ms/step - loss: 0.0211 - acc: 0.9915 - val_loss: 0.4965 - val_acc: 0.8800\n",
      "Epoch 28/30\n",
      "100/100 [==============================] - 48s 481ms/step - loss: 0.0208 - acc: 0.9930 - val_loss: 0.4136 - val_acc: 0.9120\n",
      "Epoch 29/30\n",
      "100/100 [==============================] - 48s 482ms/step - loss: 0.0223 - acc: 0.9940 - val_loss: 0.5311 - val_acc: 0.9100\n",
      "Epoch 30/30\n",
      "100/100 [==============================] - 48s 481ms/step - loss: 0.0160 - acc: 0.9955 - val_loss: 0.5720 - val_acc: 0.8940\n"
     ]
    }
   ],
   "source": [
    "history = model.fit_generator(\n",
    "      train_generator,\n",
    "      steps_per_epoch=100,\n",
    "      epochs=30,\n",
    "      validation_data=validation_generator,\n",
    "      validation_steps=50)"
   ]
  },
  {
   "cell_type": "code",
   "execution_count": 20,
   "id": "976fd86b",
   "metadata": {},
   "outputs": [],
   "source": [
    "model.save('smile_and_unsmile_small_2.h5')\n"
   ]
  },
  {
   "cell_type": "code",
   "execution_count": 21,
   "id": "848332c3",
   "metadata": {},
   "outputs": [
    {
     "ename": "NameError",
     "evalue": "name 'plt' is not defined",
     "output_type": "error",
     "traceback": [
      "\u001b[1;31m---------------------------------------------------------------------------\u001b[0m",
      "\u001b[1;31mNameError\u001b[0m                                 Traceback (most recent call last)",
      "\u001b[1;32m<ipython-input-21-4ce54a883635>\u001b[0m in \u001b[0;36m<module>\u001b[1;34m\u001b[0m\n\u001b[0;32m      6\u001b[0m \u001b[0mepochs\u001b[0m \u001b[1;33m=\u001b[0m \u001b[0mrange\u001b[0m\u001b[1;33m(\u001b[0m\u001b[0mlen\u001b[0m\u001b[1;33m(\u001b[0m\u001b[0macc\u001b[0m\u001b[1;33m)\u001b[0m\u001b[1;33m)\u001b[0m\u001b[1;33m\u001b[0m\u001b[1;33m\u001b[0m\u001b[0m\n\u001b[0;32m      7\u001b[0m \u001b[1;33m\u001b[0m\u001b[0m\n\u001b[1;32m----> 8\u001b[1;33m \u001b[0mplt\u001b[0m\u001b[1;33m.\u001b[0m\u001b[0mplot\u001b[0m\u001b[1;33m(\u001b[0m\u001b[0mepochs\u001b[0m\u001b[1;33m,\u001b[0m \u001b[0macc\u001b[0m\u001b[1;33m,\u001b[0m \u001b[1;34m'bo'\u001b[0m\u001b[1;33m,\u001b[0m \u001b[0mlabel\u001b[0m\u001b[1;33m=\u001b[0m\u001b[1;34m'Training acc'\u001b[0m\u001b[1;33m)\u001b[0m\u001b[1;33m\u001b[0m\u001b[1;33m\u001b[0m\u001b[0m\n\u001b[0m\u001b[0;32m      9\u001b[0m \u001b[0mplt\u001b[0m\u001b[1;33m.\u001b[0m\u001b[0mplot\u001b[0m\u001b[1;33m(\u001b[0m\u001b[0mepochs\u001b[0m\u001b[1;33m,\u001b[0m \u001b[0mval_acc\u001b[0m\u001b[1;33m,\u001b[0m \u001b[1;34m'b'\u001b[0m\u001b[1;33m,\u001b[0m \u001b[0mlabel\u001b[0m\u001b[1;33m=\u001b[0m\u001b[1;34m'Validation acc'\u001b[0m\u001b[1;33m)\u001b[0m\u001b[1;33m\u001b[0m\u001b[1;33m\u001b[0m\u001b[0m\n\u001b[0;32m     10\u001b[0m \u001b[0mplt\u001b[0m\u001b[1;33m.\u001b[0m\u001b[0mtitle\u001b[0m\u001b[1;33m(\u001b[0m\u001b[1;34m'Training and validation accuracy'\u001b[0m\u001b[1;33m)\u001b[0m\u001b[1;33m\u001b[0m\u001b[1;33m\u001b[0m\u001b[0m\n",
      "\u001b[1;31mNameError\u001b[0m: name 'plt' is not defined"
     ]
    }
   ],
   "source": [
    "acc = history.history['acc']\n",
    "val_acc = history.history['val_acc']\n",
    "loss = history.history['loss']\n",
    "val_loss = history.history['val_loss']\n",
    "\n",
    "epochs = range(len(acc))\n",
    "\n",
    "plt.plot(epochs, acc, 'bo', label='Training acc')\n",
    "plt.plot(epochs, val_acc, 'b', label='Validation acc')\n",
    "plt.title('Training and validation accuracy')\n",
    "plt.legend()\n",
    "\n",
    "plt.figure()\n",
    "\n",
    "plt.plot(epochs, loss, 'bo', label='Training loss')\n",
    "plt.plot(epochs, val_loss, 'b', label='Validation loss')\n",
    "plt.title('Training and validation loss')\n",
    "plt.legend()\n",
    "\n",
    "plt.show()\n"
   ]
  },
  {
   "cell_type": "code",
   "execution_count": 22,
   "id": "47329214",
   "metadata": {},
   "outputs": [
    {
     "data": {
      "image/png": "[encoded data removed]",
      "text/plain": [
       "<Figure size 432x288 with 1 Axes>"
      ]
     },
     "metadata": {
      "needs_background": "light"
     },
     "output_type": "display_data"
    },
    {
     "data": {
      "image/png": "[encoded data removed]",
      "text/plain": [
       "<Figure size 432x288 with 1 Axes>"
      ]
     },
     "metadata": {
      "needs_background": "light"
     },
     "output_type": "display_data"
    }
   ],
   "source": [
    "import os\n",
    "import matplotlib.pyplot as plt\n",
    " \n",
    "acc = history.history['acc']\n",
    "val_acc = history.history['val_acc']\n",
    "loss = history.history['loss']\n",
    "val_loss = history.history['val_loss']\n",
    " \n",
    "epochs = range(len(acc))\n",
    " \n",
    "plt.plot(epochs, acc, 'bo', label='Training acc')\n",
    "plt.plot(epochs, val_acc, 'b', label='Validation acc')\n",
    "plt.title('Training and validation accuracy')\n",
    "plt.legend()\n",
    " \n",
    "plt.figure()\n",
    " \n",
    "plt.plot(epochs, loss, 'bo', label='Training loss')\n",
    "plt.plot(epochs, val_loss, 'b', label='Validation loss')\n",
    "plt.title('Training and validation loss')\n",
    "plt.legend()\n",
    " \n",
    "plt.show()"
   ]
  },
  {
   "cell_type": "code",
   "execution_count": 2,
   "id": "d1b065b0",
   "metadata": {},
   "outputs": [],
   "source": [
    "#检测视频或者摄像头中的人脸\n",
    "import cv2\n",
    "from keras.preprocessing import image\n",
    "from keras.models import load_model\n",
    "import numpy as np\n",
    "import dlib\n",
    "from PIL import Image\n",
    "model = load_model(r'C:\\Users\\ASUS\\smile_and_unsmile_small_2.h5')\n",
    "detector = dlib.get_frontal_face_detector()\n",
    "video=cv2.VideoCapture(0)\n",
    "font = cv2.FONT_HERSHEY_SIMPLEX\n",
    "def rec(img):\n",
    "    gray=cv2.cvtColor(img,cv2.COLOR_BGR2GRAY)\n",
    "    dets=detector(gray,1)\n",
    "    if dets is not None:\n",
    "        for face in dets:\n",
    "            left=face.left()\n",
    "            top=face.top()\n",
    "            right=face.right()\n",
    "            bottom=face.bottom()\n",
    "            cv2.rectangle(img,(left,top),(right,bottom),(0,255,0),2)\n",
    "            img1=cv2.resize(img[top:bottom,left:right],dsize=(150,150))\n",
    "            img1=cv2.cvtColor(img1,cv2.COLOR_BGR2RGB)\n",
    "            img1 = np.array(img1)/255.\n",
    "            img_tensor = img1.reshape(-1,150,150,3)\n",
    "            prediction =model.predict(img_tensor)    \n",
    "            if prediction[0][0]>0.5:\n",
    "                result='unsmile'\n",
    "            else:\n",
    "                result='smile'\n",
    "            cv2.putText(img, result, (left,top), font, 2, (0, 255, 0), 2, cv2.LINE_AA)\n",
    "        cv2.imshow('Video', img)\n",
    "while video.isOpened():\n",
    "    res, img_rd = video.read()\n",
    "    if not res:\n",
    "        break\n",
    "    rec(img_rd)\n",
    "##按q退出\n",
    "    if cv2.waitKey(5) & 0xFF == ord('q'):\n",
    "        break\n",
    "video.release()\n",
    "cv2.destroyAllWindows()"
   ]
  },
  {
   "cell_type": "code",
   "execution_count": null,
   "id": "f15acb1f",
   "metadata": {},
   "outputs": [],
   "source": []
  }
 ],
 "metadata": {
  "kernelspec": {
   "display_name": "Python 3",
   "language": "python",
   "name": "python3"
  },
  "language_info": {
   "codemirror_mode": {
    "name": "ipython",
    "version": 3
   },
   "file_extension": ".py",
   "mimetype": "text/x-python",
   "name": "python",
   "nbconvert_exporter": "python",
   "pygments_lexer": "ipython3",
   "version": "3.8.8"
  }
 },
 "nbformat": 4,
 "nbformat_minor": 5
}
